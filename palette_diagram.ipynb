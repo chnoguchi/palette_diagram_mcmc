{
 "cells": [
  {
   "cell_type": "code",
   "execution_count": null,
   "metadata": {
    "collapsed": false
   },
   "outputs": [],
   "source": [
    "%reload_ext autoreload\n",
    "%autoreload 2\n",
    "\n",
    "from IPython.core.display import display, HTML\n",
    "display(HTML(\"<style>.container { width:100% !important; }</style>\"))\n",
    "\n",
    "import sys\n",
    "sys.path.append('palette_diagram/')\n",
    "\n",
    "from my_functions import *\n",
    "from palette_diagram import *\n",
    "from inference import *\n"
   ]
  },
  {
   "cell_type": "markdown",
   "metadata": {},
   "source": [
    "# Inference of group assignments"
   ]
  },
  {
   "cell_type": "markdown",
   "metadata": {},
   "source": [
    "## Parameters"
   ]
  },
  {
   "cell_type": "code",
   "execution_count": null,
   "metadata": {
    "collapsed": false
   },
   "outputs": [],
   "source": [
    "from easydict import EasyDict as edict\n",
    "cfg = edict()\n",
    "\n",
    "\n",
    "cfg.filename = 'lesmis'\n",
    "cfg.gml_filename = \"datasets/%s.gml\" % cfg.filename\n",
    "\n",
    "cfg.K=15 # Maximum and initial number of groups\n",
    "cfg.relaxation_time=50\n",
    "cfg.sample_interval=100\n",
    "cfg.n_samples=5\n"
   ]
  },
  {
   "cell_type": "markdown",
   "metadata": {},
   "source": [
    "## Inference"
   ]
  },
  {
   "cell_type": "code",
   "execution_count": null,
   "metadata": {
    "collapsed": false,
    "scrolled": false
   },
   "outputs": [],
   "source": [
    "grp_assing_filename = inference(cfg)"
   ]
  },
  {
   "cell_type": "markdown",
   "metadata": {},
   "source": [
    "# Palette Diagram"
   ]
  },
  {
   "cell_type": "markdown",
   "metadata": {},
   "source": [
    "## 1. kmeans & t-SNE"
   ]
  },
  {
   "cell_type": "code",
   "execution_count": null,
   "metadata": {
    "collapsed": false,
    "scrolled": false
   },
   "outputs": [],
   "source": [
    "# grp_assing_filename='../newman2016/outputs/grp_assign.txt' #  Set this parameter if this step is performed independently\n",
    "cfg.is_savefig = True\n",
    "cfg.save_path = 'figures/%s/%s/' % (cfg.filename, cfg.method)\n",
    "\n",
    "cfg.perplexity = 30 # parameter for t-SNE (default:30)\n",
    "cfg.n_clusters = 7\n",
    "cfg.divergence_option = 3\n",
    "\n",
    "cfg.figsize = (12,9)\n",
    "cfg.markersize = 100\n",
    "cfg.fig_filename = 'n_clusters_%d_div_option_%d_%s_2d_plot.pdf' % (cfg.n_clusters, cfg.divergence_option, cfg.method)\n",
    "\n",
    "\n",
    "X, labels = plot_2d(grp_assing_filename, cfg)"
   ]
  },
  {
   "cell_type": "markdown",
   "metadata": {},
   "source": [
    "## 2. palette diagram"
   ]
  },
  {
   "cell_type": "code",
   "execution_count": null,
   "metadata": {
    "collapsed": false,
    "scrolled": false
   },
   "outputs": [],
   "source": [
    "cfg.n_neighbors =20 # Number of neighbors to calculate an approximate geodesic distance for isomap.\n",
    "cfg.figsize=(12,9)\n",
    "cfg.fig_filename = 'n_clusters_%d_div_option_%d_%s_palette_diagram.pdf' % (cfg.n_clusters, cfg.divergence_option, cfg.method)\n",
    "\n",
    "\n",
    "table = palette_diagram(X, labels, cfg)"
   ]
  }
 ],
 "metadata": {
  "kernelspec": {
   "display_name": "Python 3",
   "language": "python",
   "name": "python3"
  },
  "language_info": {
   "codemirror_mode": {
    "name": "ipython",
    "version": 3
   },
   "file_extension": ".py",
   "mimetype": "text/x-python",
   "name": "python",
   "nbconvert_exporter": "python",
   "pygments_lexer": "ipython3",
   "version": "3.6.0"
  }
 },
 "nbformat": 4,
 "nbformat_minor": 2
}
